{
 "cells": [
  {
   "cell_type": "code",
   "execution_count": 1,
   "id": "1e62dcd0",
   "metadata": {},
   "outputs": [],
   "source": [
    "import numpy as np"
   ]
  },
  {
   "cell_type": "code",
   "execution_count": 2,
   "id": "31f0f01b",
   "metadata": {},
   "outputs": [],
   "source": [
    "MAS = np.array([\n",
    "    [-100,-38,145,145,145,145],\n",
    "    [-68,-86,98,280,280,280],\n",
    "    [-116,-133,50,230,410,410],\n",
    "    [-166,-118,1,360,510,700]\n",
    "],dtype=object)\n",
    "X_i=np.array([20,30,40,50],dtype=object)\n",
    "S_j=np.array([0,10,20,30,40,50],dtype=object)"
   ]
  },
  {
   "cell_type": "markdown",
   "id": "721b5a08",
   "metadata": {},
   "source": [
    "# Критерій Уолда (обережного спостереження)"
   ]
  },
  {
   "cell_type": "code",
   "execution_count": 3,
   "id": "79abb4c4",
   "metadata": {},
   "outputs": [
    {
     "name": "stdout",
     "output_type": "stream",
     "text": [
      "Масив \n",
      " [[-100 -38 145 145 145 145]\n",
      " [-68 -86 98 280 280 280]\n",
      " [-116 -133 50 230 410 410]\n",
      " [-166 -118 1 360 510 700]]\n",
      "Найгірші X_i \n",
      " [-100 -86 -133 -166]\n",
      "Обране значення  \n",
      " -86\n",
      "i = 1,X_i = 30, j = 1, S_j = 10 Значення -86\n"
     ]
    }
   ],
   "source": [
    "print(\"Масив \\n\",MAS)\n",
    "X_i_bad = np.amin(MAS,axis=1)\n",
    "print(\"Найгірші X_i \\n\",X_i_bad)\n",
    "Result = np.amax(X_i_bad)\n",
    "print(\"Обране значення  \\n\",Result)\n",
    "\n",
    "module = np.absolute(MAS-Result)\n",
    "sup_min=np.amin(np.amin(module))\n",
    "j,i = np.where(sup_min == module); i = i[0];j=j[0]\n",
    "\n",
    "print(f\"i = {i},X_i = {X_i[i]}, j = {j}, S_j = {S_j[j]} Значення\",MAS[j][i])"
   ]
  },
  {
   "cell_type": "markdown",
   "id": "1775381d",
   "metadata": {},
   "source": [
    "Отже, якщо побудуємо гостиницю з 30-ма кімнатами і будуть використовуватися лище з 10 зних, то ми втратимо лище 86 грошових одиниць."
   ]
  },
  {
   "cell_type": "markdown",
   "id": "481a4f1b",
   "metadata": {},
   "source": [
    "# Критерій Лапласа "
   ]
  },
  {
   "cell_type": "code",
   "execution_count": 4,
   "id": "c07f9d24",
   "metadata": {},
   "outputs": [
    {
     "name": "stdout",
     "output_type": "stream",
     "text": [
      "Масив \n",
      " [[-100 -38 145 145 145 145]\n",
      " [-68 -86 98 280 280 280]\n",
      " [-116 -133 50 230 410 410]\n",
      " [-166 -118 1 360 510 700]]\n",
      "L =  [73.66666666666667 130.66666666666666 141.83333333333334 214.5] \n",
      " max_L =  214.5\n",
      "i = 3,X_i = 50, j = 2, S_j = 20 Значення 230\n"
     ]
    }
   ],
   "source": [
    "print(\"Масив \\n\",MAS)\n",
    "L = np.sum(MAS, axis = 1)/len(MAS[0])\n",
    "Result = np.amax(L)\n",
    "print(\"L = \", L, \"\\n max_L = \",Result)\n",
    "module = np.absolute(MAS-Result)\n",
    "\n",
    "sup_min=np.amin(np.amin(module))\n",
    "j,i = np.where(sup_min == module); i = i[0];j=j[0]\n",
    "\n",
    "print(f\"i = {i},X_i = {X_i[i]}, j = {j}, S_j = {S_j[j]} Значення\",MAS[j][i])"
   ]
  },
  {
   "cell_type": "markdown",
   "id": "7df6f817",
   "metadata": {},
   "source": [
    "Отже, якщо побудуємо гостиницю з 50-ма кімнатами і будуть використовуватися лище з 20 зних, то наш прибуток буде становити 230 грошових одиниць."
   ]
  },
  {
   "cell_type": "markdown",
   "id": "da9f7f09",
   "metadata": {},
   "source": [
    "# Критерій Гурвиця"
   ]
  },
  {
   "cell_type": "code",
   "execution_count": 5,
   "id": "522854a7",
   "metadata": {},
   "outputs": [
    {
     "name": "stdout",
     "output_type": "stream",
     "text": [
      "Масив \n",
      " [[-100 -38 145 145 145 145]\n",
      " [-68 -86 98 280 280 280]\n",
      " [-116 -133 50 230 410 410]\n",
      " [-166 -118 1 360 510 700]] \n",
      " Отриманий результат \n",
      " 353.6 \n",
      "\n",
      "i = 3,X_i = 50, j = 3, S_j = 30 Значення 360\n"
     ]
    }
   ],
   "source": [
    "l = 0.6\n",
    "max_i = np.amax(MAS, axis = 1)\n",
    "min_j = np.amin(MAS, axis = 1)\n",
    "mid = (1-l)*min_j+l*max_i\n",
    "max_mid = np.amax(mid)\n",
    "print(\"Масив \\n\",MAS,\"\\n Отриманий результат \\n\",max_mid,\"\\n\")\n",
    "\n",
    "module = np.absolute(MAS-max_mid)\n",
    "sup_min=np.amin(np.amin(module))\n",
    "j,i = np.where(sup_min == module); i = i[0];j=j[0]\n",
    "\n",
    "print(f\"i = {i},X_i = {X_i[i]}, j = {j}, S_j = {S_j[j]} Значення\",MAS[j][i])"
   ]
  },
  {
   "cell_type": "markdown",
   "id": "2524967a",
   "metadata": {},
   "source": [
    "Отже, якщо побудуємо гостиницю з 50-ма кімнатами і будуть використовуватися лище з 30 зних, то наш прибуток буде становити 360 грошових одиниць."
   ]
  },
  {
   "cell_type": "markdown",
   "id": "bce9f6ce",
   "metadata": {},
   "source": [
    "# Критерій Севіджа"
   ]
  },
  {
   "cell_type": "markdown",
   "id": "8f93ab0d",
   "metadata": {},
   "source": [
    "print(\"Масив \\n\",MAS)\n",
    "max_i = np.amax(MAS,axis=0)\n",
    "print(\"Найкращий результат кожної графи \\n\",max_i)\n",
    "r = np.zeros(MAS.shape)\n",
    "for j in range (len(MAS)):\n",
    "    for i in range (len(MAS[0])):\n",
    "        r[j][i] = max_i[i]-MAS[j][i]\n",
    "print(\"Відхилення відкращого результату кожної окремої графи\\n\",r)\n",
    "max_j = np.amax(r,axis=1)\n",
    "print(\"Матриця жалю\\n\",max_j)\n",
    "res = np.min(max_j,axis=0)\n",
    "print(\"Обираємо рішення, за якого максимальний жаль буде меншим, ніж за інших рішень\\n\",res)\n",
    "j,i = np.where(r == res); i = i[0];j=j[0]\n",
    "f_res = MAS[j][i]\n",
    "print(f\"i = {i},X_i = {X_i[i]}, j = {j}, S_j = {S_j[j]} Значення\",MAS[j][i])"
   ]
  },
  {
   "cell_type": "markdown",
   "id": "48444eab",
   "metadata": {},
   "source": [
    "Отже, якщо побудуємо гостиницю з 40-ма кімнатами і будуть використовуватися лище з 30 зних, то наш прибуток буде становити 1 грошову одиницю."
   ]
  },
  {
   "cell_type": "markdown",
   "id": "1e43e02f",
   "metadata": {},
   "source": [
    "# Висновки"
   ]
  },
  {
   "cell_type": "markdown",
   "id": "32861ac1",
   "metadata": {},
   "source": [
    "1) Якщо побудуємо гостиницю з 30-ма кімнатами і будуть використовуватися лище з 10 зних, то ми втратимо лище 86 грошових одиниць. (Не будуємо)\n"
   ]
  },
  {
   "cell_type": "markdown",
   "id": "80494daf",
   "metadata": {},
   "source": [
    "2) Якщо побудуємо гостиницю з 50-ма кімнатами і будуть використовуватися лище з 20 зних, то наш прибуток буде становити 230 грошових одиниць."
   ]
  },
  {
   "cell_type": "markdown",
   "id": "3d98e410",
   "metadata": {},
   "source": [
    " 3) Якщо побудуємо гостиницю з 50-ма кімнатами і будуть використовуватися лище з 30 зних, то наш прибуток буде становити 360 грошових одиниць."
   ]
  },
  {
   "cell_type": "markdown",
   "id": "4abbbe0a",
   "metadata": {},
   "source": [
    "4) Якщо побудуємо гостиницю з 40-ма кімнатами і будуть використовуватися лище з 30 зних, то наш прибуток буде становити 1 грошову одиницю."
   ]
  },
  {
   "cell_type": "markdown",
   "id": "7d4a8056",
   "metadata": {},
   "source": [
    "Я би обрав варіант, де будуємо 50 кімнат, бо можна побачити, що виграш може окупити програші на перших етапах (розвиток готелю, коли людей мало). "
   ]
  },
  {
   "cell_type": "markdown",
   "id": "5d377978",
   "metadata": {},
   "source": [
    "30, 40 --- варіанти, де на перший погляд все більш безпечно. Але прибуток буде обиежений як і розвиток готелю. І можна побачити, що скоріше за все  довгий час гостиниця не зможе окупитися. 20 --- не рекомендую будувати, бо шанс програти дуже великий і потрібно, щоб гостиниця була заповнена на усі 20 кімнат. 30 --- для початківця, якщо ресурсів на розвитку готелю немає + для стабільного доходу.  40 --- якщо людина готова більше вкластися у проект і тут вже виграш набагато смачніший. Якщо людина готова масштабуватися і може слідкувати за тим, щоб 30-40 кімнат використовувалося (чи володіє людина репутацією, грошима та іншим для забезпечення такого стану)."
   ]
  },
  {
   "cell_type": "markdown",
   "id": "3ce4e805",
   "metadata": {},
   "source": [
    "50 кімнат потребують багато ресурсів для будування. Але, якщо вдається заповнити 30 кімнат, то ми вже маємо чудовий прибуток. І не потрібно слідкувати за тим, щоб у нас бв постіний відтік і притік клієнтів. А виграш при від 40-50 заповнених кімнат надзвичайний і дозволить відкрити інші готелі."
   ]
  },
  {
   "cell_type": "markdown",
   "id": "d831513f",
   "metadata": {},
   "source": [
    "Мені сподобався результат 3-го критерію. Я у своїх розумах також спирався на цю цифру. Тим паче я можу налаштувати кофіцієнт оптимізму (обрано 0.6)."
   ]
  },
  {
   "cell_type": "code",
   "execution_count": 6,
   "id": "467f6b0a",
   "metadata": {},
   "outputs": [
    {
     "name": "stdout",
     "output_type": "stream",
     "text": [
      "MAS = \n",
      "[[-100 -38 145 145 145 145]\n",
      " [-68 -86 98 280 280 280]\n",
      " [-116 -133 50 230 410 410]\n",
      " [-166 -118 1 360 510 700]]\n",
      "\n",
      "A = \n",
      "[[-100 -38]\n",
      " [-68 -86]\n",
      " [-116 -133]\n",
      " [-166 -118]]\n",
      "\n",
      "B = \n",
      "[[145 145]\n",
      " [98 280]\n",
      " [50 230]\n",
      " [1 360]]\n",
      "\n",
      "C = \n",
      "[[145 145]\n",
      " [280 280]\n",
      " [410 410]\n",
      " [510 700]]\n",
      "\n",
      "a = 0.2, b = 0.45, c = 0.35 \n",
      "\n",
      "U = 238.67499999999998\n",
      "i = 3,X_i = 50, j = 2, S_j = 20 Значення 230\n"
     ]
    }
   ],
   "source": [
    "print(f\"MAS = \\n{MAS}\\n\")\n",
    "A = MAS[0:4,0:2]\n",
    "print(f\"A = \\n{A}\\n\")\n",
    "B = MAS[0:4,2:4]\n",
    "print(f\"B = \\n{B}\\n\")\n",
    "C = MAS[0:4,4:6]\n",
    "print(f\"C = \\n{C}\\n\")\n",
    "a = 0.2; b = 0.45;c = 0.35\n",
    "print (f\"a = {a}, b = {b}, c = {c} \\n\")\n",
    "U = np.sum(A)*a/6+np.sum(B)*b/6+np.sum(C)*c/6\n",
    "print(f\"U = {U}\")\n",
    "\n",
    "module = np.absolute(MAS-U)\n",
    "sup_min=np.amin(np.amin(module))\n",
    "j,i = np.where(sup_min == module); i = i[0];j=j[0]\n",
    "\n",
    "print(f\"i = {i},X_i = {X_i[i]}, j = {j}, S_j = {S_j[j]} Значення\",MAS[j][i])"
   ]
  },
  {
   "cell_type": "markdown",
   "id": "1067fa5f",
   "metadata": {},
   "source": [
    "Виходячи з даних результатів при таких віогідностях і данних краще запропонувати 2-ий критерій."
   ]
  },
  {
   "cell_type": "markdown",
   "id": "fd44d984",
   "metadata": {},
   "source": [
    "Отже, будуємо готель на 50 кімнат :)"
   ]
  }
 ],
 "metadata": {
  "kernelspec": {
   "display_name": "Python 3 (ipykernel)",
   "language": "python",
   "name": "python3"
  },
  "language_info": {
   "codemirror_mode": {
    "name": "ipython",
    "version": 3
   },
   "file_extension": ".py",
   "mimetype": "text/x-python",
   "name": "python",
   "nbconvert_exporter": "python",
   "pygments_lexer": "ipython3",
   "version": "3.9.7"
  }
 },
 "nbformat": 4,
 "nbformat_minor": 5
}
