{
 "cells": [
  {
   "cell_type": "code",
   "execution_count": 1,
   "id": "feb5e05b",
   "metadata": {},
   "outputs": [],
   "source": [
    "import numpy as np"
   ]
  },
  {
   "cell_type": "code",
   "execution_count": 10,
   "id": "c11f6d35",
   "metadata": {},
   "outputs": [],
   "source": [
    "k = 1\n",
    "l = 1/(k+3)\n",
    "MAS = np.array([\n",
    "    [180,140,k,245-4*k,232],\n",
    "    [420,120+10*k,140,220,100],\n",
    "    [28+8*k,315,35,49,(10*k+23)-50],\n",
    "    [290-10*k,k,9,100*k-90,201]\n",
    "],dtype=object)\n",
    "p1 = 0.1; p2 = 0.2; p3 = l; p4 = l+0.1; p5 = 1-p1-p2-p3-p4\n",
    "p = np.array([p1,p2,p3,p4,p5])"
   ]
  },
  {
   "cell_type": "markdown",
   "id": "3df94eb7",
   "metadata": {},
   "source": [
    "# Критерій песимізму"
   ]
  },
  {
   "cell_type": "code",
   "execution_count": 3,
   "id": "6b8eb890",
   "metadata": {},
   "outputs": [
    {
     "name": "stdout",
     "output_type": "stream",
     "text": [
      "Масив \n",
      " [[180 140 1 241 232]\n",
      " [420 130 140 220 100]\n",
      " [36 315 35 49 -17]\n",
      " [280 1 9 10 201]]\n",
      "Найгірші результати при використанні відповідних  стратегій \n",
      " [36 1 1 10 -17]\n",
      "Найбільший прибуток в найгірших умовах 36\n"
     ]
    }
   ],
   "source": [
    "print(\"Масив \\n\",MAS)\n",
    "min_j = np.amin(MAS,axis=0)\n",
    "print(\"Найгірші результати при використанні відповідних  стратегій \\n\",min_j)\n",
    "max_i_min_j = np.amax(min_j)\n",
    "print(\"Найбільший прибуток в найгірших умовах\",max_i_min_j)"
   ]
  },
  {
   "cell_type": "markdown",
   "id": "0179b808",
   "metadata": {},
   "source": [
    "# Критерій оптимізму"
   ]
  },
  {
   "cell_type": "code",
   "execution_count": 4,
   "id": "8d796fe8",
   "metadata": {},
   "outputs": [
    {
     "name": "stdout",
     "output_type": "stream",
     "text": [
      "Масив \n",
      " [[180 140 1 241 232]\n",
      " [420 130 140 220 100]\n",
      " [36 315 35 49 -17]\n",
      " [280 1 9 10 201]]\n",
      "Найкращий результат кожної графи \n",
      " [420 315 140 241 232]\n",
      "Відхилення відкращого результату кожної окремої графи\n",
      " [[240. 175. 139.   0.   0.]\n",
      " [  0. 185.   0.  21. 132.]\n",
      " [384.   0. 105. 192. 249.]\n",
      " [140. 314. 131. 231.  31.]]\n",
      "Матриця жалю\n",
      " [240. 185. 384. 314.]\n",
      "Обираємо рішення, за якого максимальний жаль буде меншим, ніж за інших рішень\n",
      " 185.0\n",
      "130 По стовбцям 1 і строкам 1\n"
     ]
    }
   ],
   "source": [
    "print(\"Масив \\n\",MAS)\n",
    "max_i = np.amax(MAS,axis=0)\n",
    "print(\"Найкращий результат кожної графи \\n\",max_i)\n",
    "r = np.zeros(MAS.shape)\n",
    "for j in range (len(MAS)):\n",
    "    for i in range (len(MAS[0])):\n",
    "        r[j][i] = max_i[i]-MAS[j][i]\n",
    "print(\"Відхилення відкращого результату кожної окремої графи\\n\",r)\n",
    "max_j = np.amax(r,axis=1)\n",
    "print(\"Матриця жалю\\n\",max_j)\n",
    "res = np.min(max_j,axis=0)\n",
    "print(\"Обираємо рішення, за якого максимальний жаль буде меншим, ніж за інших рішень\\n\",res)\n",
    "j,i = np.where(r == res); i = i[0];j=j[0]\n",
    "f_res = MAS[j][i]\n",
    "print(f_res,f\"По стовбцям {i} і строкам {j}\" )\n",
    "    "
   ]
  },
  {
   "cell_type": "markdown",
   "id": "e8d19bae",
   "metadata": {},
   "source": [
    "# Критерій песимізму-оптимізму (критерій Гурвіца)."
   ]
  },
  {
   "cell_type": "code",
   "execution_count": 5,
   "id": "b26a27ee",
   "metadata": {},
   "outputs": [
    {
     "name": "stdout",
     "output_type": "stream",
     "text": [
      "Масив \n",
      " [[180 140 1 241 232]\n",
      " [420 130 140 220 100]\n",
      " [36 315 35 49 -17]\n",
      " [280 1 9 10 201]] \n",
      " Отриманий результат \n",
      " 340.0 \n",
      "\n",
      "Найближчий результат 315\n"
     ]
    }
   ],
   "source": [
    "max_i = np.amax(MAS, axis = 1)\n",
    "min_j = np.amin(MAS, axis = 1)\n",
    "mid = l*min_j+(1-l)*max_i\n",
    "max_mid = np.amax(mid)\n",
    "print(\"Масив \\n\",MAS,\"\\n Отриманий результат \\n\",max_mid,\"\\n\")\n",
    "\n",
    "module = np.absolute(MAS-max_mid)\n",
    "sup_min=np.amin(np.amin(module))\n",
    "j,i = np.where(sup_min == module); i = i[0];j=j[0]\n",
    "\n",
    "print(\"Найближчий результат\",MAS[j][i])"
   ]
  },
  {
   "cell_type": "markdown",
   "id": "3098184f",
   "metadata": {},
   "source": [
    "# Критерій Байєса-Лапласа."
   ]
  },
  {
   "cell_type": "code",
   "execution_count": 17,
   "id": "b8e1d81d",
   "metadata": {},
   "outputs": [],
   "source": [
    "M_p = MAS*p"
   ]
  },
  {
   "cell_type": "code",
   "execution_count": 18,
   "id": "39d8b9f5",
   "metadata": {},
   "outputs": [
    {
     "data": {
      "text/plain": [
       "array([[2, 4],\n",
       "       [3, 6]])"
      ]
     },
     "execution_count": 18,
     "metadata": {},
     "output_type": "execute_result"
    }
   ],
   "source": [
    "np.array([[2,2],[3,3]])*np.array([1,2])"
   ]
  },
  {
   "cell_type": "code",
   "execution_count": 35,
   "id": "dafb007e",
   "metadata": {},
   "outputs": [
    {
     "name": "stdout",
     "output_type": "stream",
     "text": [
      "[[18.0 28.0 0.25 84.35 23.199999999999996]\n",
      " [42.0 26.0 35.0 77.0 9.999999999999998]\n",
      " [3.6 63.0 8.75 17.15 -1.6999999999999997]\n",
      " [28.0 0.2 2.25 3.5 20.099999999999994]]\n",
      "B =  [153.79999999999998 190.0 90.8 54.05] \n",
      " max =  190.0 j=1\n"
     ]
    }
   ],
   "source": [
    "print(M_p)\n",
    "B = np.sum(M_p, axis = 1)\n",
    "print(\"B = \", B, \"\\n max = \",np.amax(B),f\"j={np.argmax(B)}\")"
   ]
  },
  {
   "cell_type": "code",
   "execution_count": 37,
   "id": "fb833fb6",
   "metadata": {
    "scrolled": true
   },
   "outputs": [
    {
     "name": "stdout",
     "output_type": "stream",
     "text": [
      "[[180 140 1 241 232]\n",
      " [420 130 140 220 100]\n",
      " [36 315 35 49 -17]\n",
      " [280 1 9 10 201]]\n",
      "D =  [198.5 252.5 104.5 125.25] \n",
      " max =  252.5 j=1\n"
     ]
    }
   ],
   "source": [
    "print(MAS)\n",
    "D = np.sum(MAS, axis = 1)/len(MAS)\n",
    "print(\"D = \", D, \"\\n max = \",np.amax(D),f\"j={np.argmax()}\")"
   ]
  },
  {
   "cell_type": "markdown",
   "id": "d244a495",
   "metadata": {},
   "source": [
    "# Критерій Ходжа-Лемана"
   ]
  },
  {
   "cell_type": "code",
   "execution_count": 42,
   "id": "bd9f0e2b",
   "metadata": {},
   "outputs": [
    {
     "name": "stdout",
     "output_type": "stream",
     "text": [
      "[[180 140 1 241 232]\n",
      " [420 130 140 220 100]\n",
      " [36 315 35 49 -17]\n",
      " [280 1 9 10 201]]\n",
      "Масив \n",
      " [[180 140 1 241 232]\n",
      " [420 130 140 220 100]\n",
      " [36 315 35 49 -17]\n",
      " [280 1 9 10 201]] \n",
      " Отриманий результат \n",
      " 122.5 \n",
      "\n",
      "Найближчий результат 130\n"
     ]
    }
   ],
   "source": [
    "print(MAS)\n",
    "H = np.amax((1-l)*np.min(MAS,axis=1)+l*B)\n",
    "\n",
    "print(\"Масив \\n\",MAS,\"\\n Отриманий результат \\n\",H,\"\\n\")\n",
    "\n",
    "module = np.absolute(MAS-H)\n",
    "sup_min=np.amin(np.amin(module))\n",
    "j,i = np.where(sup_min == module); i = i[0];j=j[0]\n",
    "\n",
    "print(\"Найближчий результат\",MAS[j][i])"
   ]
  }
 ],
 "metadata": {
  "kernelspec": {
   "display_name": "Python 3 (ipykernel)",
   "language": "python",
   "name": "python3"
  },
  "language_info": {
   "codemirror_mode": {
    "name": "ipython",
    "version": 3
   },
   "file_extension": ".py",
   "mimetype": "text/x-python",
   "name": "python",
   "nbconvert_exporter": "python",
   "pygments_lexer": "ipython3",
   "version": "3.9.7"
  }
 },
 "nbformat": 4,
 "nbformat_minor": 5
}
